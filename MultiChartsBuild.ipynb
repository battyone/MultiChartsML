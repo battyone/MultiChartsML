{
 "cells": [
  {
   "cell_type": "markdown",
   "metadata": {},
   "source": [
    "## MultiChartsBuild\n",
    "Python API to be called from C++ DLL"
   ]
  },
  {
   "cell_type": "code",
   "execution_count": 84,
   "metadata": {
    "_uuid": "da0236e4b36ce514c1fec3fd72f236d1fa259131"
   },
   "outputs": [],
   "source": [
    "# Importing the libraries\n",
    "import numpy as np\n",
    "import matplotlib.pyplot as plt\n",
    "plt.style.use('fivethirtyeight')\n",
    "import pandas as pd\n",
    "from sklearn.preprocessing import MinMaxScaler\n",
    "from keras.models import Sequential\n",
    "from keras.layers import Dense, LSTM, Dropout, GRU, Bidirectional\n",
    "from keras.optimizers import SGD\n",
    "import math\n",
    "from sklearn.metrics import mean_squared_error\n",
    "import plotly.graph_objs as go\n",
    "from plotly.offline import init_notebook_mode, iplot\n",
    "import plotly.plotly as py\n",
    "import plotly"
   ]
  },
  {
   "cell_type": "code",
   "execution_count": 2,
   "metadata": {
    "_uuid": "b288a8e2caf6196daec9cd2bc4ca78fe50345845"
   },
   "outputs": [],
   "source": [
    "# Some functions to help out with\n",
    "def plot_predictions(test,predicted):\n",
    "    plt.plot(test, color='red',label='Real IBM Stock Price')\n",
    "    plt.plot(predicted, color='blue',label='Predicted IBM Stock Price')\n",
    "    plt.title('IBM Stock Price Prediction')\n",
    "    plt.xlabel('Time')\n",
    "    plt.ylabel('IBM Stock Price')\n",
    "    plt.legend()\n",
    "    plt.show()\n",
    "\n",
    "def return_rmse(test,predicted):\n",
    "    rmse = math.sqrt(mean_squared_error(test, predicted))\n",
    "    print(\"The root mean squared error is {}.\".format(rmse))"
   ]
  },
  {
   "cell_type": "code",
   "execution_count": 8,
   "metadata": {
    "_uuid": "4cf10cf27420eb383b93b15c0895139ea96c0ed3"
   },
   "outputs": [
    {
     "data": {
      "text/html": [
       "<div>\n",
       "<style scoped>\n",
       "    .dataframe tbody tr th:only-of-type {\n",
       "        vertical-align: middle;\n",
       "    }\n",
       "\n",
       "    .dataframe tbody tr th {\n",
       "        vertical-align: top;\n",
       "    }\n",
       "\n",
       "    .dataframe thead th {\n",
       "        text-align: right;\n",
       "    }\n",
       "</style>\n",
       "<table border=\"1\" class=\"dataframe\">\n",
       "  <thead>\n",
       "    <tr style=\"text-align: right;\">\n",
       "      <th></th>\n",
       "      <th>Open</th>\n",
       "      <th>High</th>\n",
       "      <th>Low</th>\n",
       "      <th>Close</th>\n",
       "      <th>Volume</th>\n",
       "      <th>Name</th>\n",
       "    </tr>\n",
       "    <tr>\n",
       "      <th>Date</th>\n",
       "      <th></th>\n",
       "      <th></th>\n",
       "      <th></th>\n",
       "      <th></th>\n",
       "      <th></th>\n",
       "      <th></th>\n",
       "    </tr>\n",
       "  </thead>\n",
       "  <tbody>\n",
       "    <tr>\n",
       "      <th>2006-01-03</th>\n",
       "      <td>82.45</td>\n",
       "      <td>82.55</td>\n",
       "      <td>80.81</td>\n",
       "      <td>82.06</td>\n",
       "      <td>11715200</td>\n",
       "      <td>IBM</td>\n",
       "    </tr>\n",
       "    <tr>\n",
       "      <th>2006-01-04</th>\n",
       "      <td>82.20</td>\n",
       "      <td>82.50</td>\n",
       "      <td>81.33</td>\n",
       "      <td>81.95</td>\n",
       "      <td>9840600</td>\n",
       "      <td>IBM</td>\n",
       "    </tr>\n",
       "    <tr>\n",
       "      <th>2006-01-05</th>\n",
       "      <td>81.40</td>\n",
       "      <td>82.90</td>\n",
       "      <td>81.00</td>\n",
       "      <td>82.50</td>\n",
       "      <td>7213500</td>\n",
       "      <td>IBM</td>\n",
       "    </tr>\n",
       "    <tr>\n",
       "      <th>2006-01-06</th>\n",
       "      <td>83.95</td>\n",
       "      <td>85.03</td>\n",
       "      <td>83.41</td>\n",
       "      <td>84.95</td>\n",
       "      <td>8197400</td>\n",
       "      <td>IBM</td>\n",
       "    </tr>\n",
       "    <tr>\n",
       "      <th>2006-01-09</th>\n",
       "      <td>84.10</td>\n",
       "      <td>84.25</td>\n",
       "      <td>83.38</td>\n",
       "      <td>83.73</td>\n",
       "      <td>6858200</td>\n",
       "      <td>IBM</td>\n",
       "    </tr>\n",
       "  </tbody>\n",
       "</table>\n",
       "</div>"
      ],
      "text/plain": [
       "             Open   High    Low  Close    Volume Name\n",
       "Date                                                 \n",
       "2006-01-03  82.45  82.55  80.81  82.06  11715200  IBM\n",
       "2006-01-04  82.20  82.50  81.33  81.95   9840600  IBM\n",
       "2006-01-05  81.40  82.90  81.00  82.50   7213500  IBM\n",
       "2006-01-06  83.95  85.03  83.41  84.95   8197400  IBM\n",
       "2006-01-09  84.10  84.25  83.38  83.73   6858200  IBM"
      ]
     },
     "execution_count": 8,
     "metadata": {},
     "output_type": "execute_result"
    }
   ],
   "source": [
    "# Inputting dummy data\n",
    "dataset = pd.read_csv('input/IBM_2006-01-01_to_2018-01-01.csv', index_col='Date', parse_dates=['Date'])\n",
    "dataset.head()"
   ]
  },
  {
   "cell_type": "code",
   "execution_count": 9,
   "metadata": {
    "_uuid": "fb4c9db6d8a5bcf20ffad41747cfa5b6215ba220"
   },
   "outputs": [],
   "source": [
    "# Checking for missing values\n",
    "training_set = dataset[:'2016'].iloc[:,1:2].values\n",
    "test_set = dataset['2017':].iloc[:,1:2].values"
   ]
  },
  {
   "cell_type": "code",
   "execution_count": 10,
   "metadata": {
    "_uuid": "bf5a9463d58e73852d2b70be9611e8cf1f4166fd"
   },
   "outputs": [
    {
     "data": {
      "image/png": "[encoded data removed]",
      "text/plain": [
       "<Figure size 1152x288 with 1 Axes>"
      ]
     },
     "metadata": {},
     "output_type": "display_data"
    }
   ],
   "source": [
    "# 'High' attribute for prices\n",
    "dataset[\"High\"][:'2016'].plot(figsize=(16,4),legend=True)\n",
    "dataset[\"High\"]['2017':].plot(figsize=(16,4),legend=True)\n",
    "plt.legend(['Training set (Before 2017)','Test set (2017 and beyond)'])\n",
    "plt.title('IBM stock price')\n",
    "plt.show()"
   ]
  },
  {
   "cell_type": "code",
   "execution_count": 11,
   "metadata": {
    "_uuid": "bcc9c36165fc07d258bd5ea87874d2da17fa4a4d"
   },
   "outputs": [],
   "source": [
    "# Scaling the training set\n",
    "sc = MinMaxScaler(feature_range=(0,1))\n",
    "training_set_scaled = sc.fit_transform(training_set)"
   ]
  },
  {
   "cell_type": "code",
   "execution_count": 12,
   "metadata": {
    "_uuid": "fccfb866a2b4c702e0b2742f7c0289512d713d1b"
   },
   "outputs": [],
   "source": [
    "# creating a data structure with 60 timesteps and 1 output\n",
    "# for each element of training set, we have 60 previous training set elements \n",
    "X_train = []\n",
    "y_train = []\n",
    "for i in range(60,2769):\n",
    "    X_train.append(training_set_scaled[i-60:i,0])\n",
    "    y_train.append(training_set_scaled[i,0])\n",
    "X_train, y_train = np.array(X_train), np.array(y_train)"
   ]
  },
  {
   "cell_type": "code",
   "execution_count": 13,
   "metadata": {
    "_uuid": "637f699d3c4bde4b783de56ed4dd70a1bf59760d"
   },
   "outputs": [],
   "source": [
    "# Reshaping X_train for efficient modelling\n",
    "X_train = np.reshape(X_train, (X_train.shape[0],X_train.shape[1],1))"
   ]
  },
  {
   "cell_type": "markdown",
   "metadata": {},
   "source": [
    "## LSTM Model\n",
    "Training the data with a basic Long Short Term Memory RNN to avoid VG"
   ]
  },
  {
   "cell_type": "code",
   "execution_count": 14,
   "metadata": {
    "_uuid": "df20eb7e8062dae0a3aff2182aa440faddd0017d",
    "scrolled": true
   },
   "outputs": [
    {
     "name": "stdout",
     "output_type": "stream",
     "text": [
      "Epoch 1/50\n",
      "2709/2709 [==============================] - 44s 16ms/step - loss: 0.0226\n",
      "Epoch 2/50\n",
      "2709/2709 [==============================] - 23s 9ms/step - loss: 0.0108\n",
      "Epoch 3/50\n",
      "2709/2709 [==============================] - 29s 11ms/step - loss: 0.0086\n",
      "Epoch 4/50\n",
      "2709/2709 [==============================] - 29s 11ms/step - loss: 0.0071\n",
      "Epoch 5/50\n",
      "2709/2709 [==============================] - 31s 11ms/step - loss: 0.0065\n",
      "Epoch 6/50\n",
      "2709/2709 [==============================] - 31s 11ms/step - loss: 0.0056\n",
      "Epoch 7/50\n",
      "2709/2709 [==============================] - 32s 12ms/step - loss: 0.0050\n",
      "Epoch 8/50\n",
      "2709/2709 [==============================] - 34s 12ms/step - loss: 0.0044\n",
      "Epoch 9/50\n",
      "2709/2709 [==============================] - 33s 12ms/step - loss: 0.0042\n",
      "Epoch 10/50\n",
      "2709/2709 [==============================] - 36s 13ms/step - loss: 0.0039\n",
      "Epoch 11/50\n",
      "2709/2709 [==============================] - 35s 13ms/step - loss: 0.0038\n",
      "Epoch 12/50\n",
      "2709/2709 [==============================] - 34s 13ms/step - loss: 0.0036\n",
      "Epoch 13/50\n",
      "2709/2709 [==============================] - 41s 15ms/step - loss: 0.0031\n",
      "Epoch 14/50\n",
      "2709/2709 [==============================] - 35s 13ms/step - loss: 0.0032\n",
      "Epoch 15/50\n",
      "2709/2709 [==============================] - 38s 14ms/step - loss: 0.0031\n",
      "Epoch 16/50\n",
      "2709/2709 [==============================] - 35s 13ms/step - loss: 0.0029\n",
      "Epoch 17/50\n",
      "2709/2709 [==============================] - 36s 13ms/step - loss: 0.0027\n",
      "Epoch 18/50\n",
      "2709/2709 [==============================] - 35s 13ms/step - loss: 0.0027\n",
      "Epoch 19/50\n",
      "2709/2709 [==============================] - 40s 15ms/step - loss: 0.0025\n",
      "Epoch 20/50\n",
      "2709/2709 [==============================] - 39s 14ms/step - loss: 0.0026\n",
      "Epoch 21/50\n",
      "2709/2709 [==============================] - 37s 14ms/step - loss: 0.0023\n",
      "Epoch 22/50\n",
      "2709/2709 [==============================] - 37s 14ms/step - loss: 0.0024\n",
      "Epoch 23/50\n",
      "2709/2709 [==============================] - 38s 14ms/step - loss: 0.0022\n",
      "Epoch 24/50\n",
      "2709/2709 [==============================] - 37s 14ms/step - loss: 0.0023\n",
      "Epoch 25/50\n",
      "2709/2709 [==============================] - 38s 14ms/step - loss: 0.0021\n",
      "Epoch 26/50\n",
      "2709/2709 [==============================] - 38s 14ms/step - loss: 0.0022\n",
      "Epoch 27/50\n",
      "2709/2709 [==============================] - 37s 14ms/step - loss: 0.0020\n",
      "Epoch 28/50\n",
      "2709/2709 [==============================] - 39s 14ms/step - loss: 0.0020\n",
      "Epoch 29/50\n",
      "2709/2709 [==============================] - 39s 14ms/step - loss: 0.0020\n",
      "Epoch 30/50\n",
      "2709/2709 [==============================] - 38s 14ms/step - loss: 0.0019\n",
      "Epoch 31/50\n",
      "2709/2709 [==============================] - 40s 15ms/step - loss: 0.0018\n",
      "Epoch 32/50\n",
      "2709/2709 [==============================] - 39s 14ms/step - loss: 0.0018\n",
      "Epoch 33/50\n",
      "2709/2709 [==============================] - 46s 17ms/step - loss: 0.0017\n",
      "Epoch 34/50\n",
      "2709/2709 [==============================] - 42s 15ms/step - loss: 0.0019\n",
      "Epoch 35/50\n",
      "2709/2709 [==============================] - 41s 15ms/step - loss: 0.0016\n",
      "Epoch 36/50\n",
      "2709/2709 [==============================] - 41s 15ms/step - loss: 0.0017\n",
      "Epoch 37/50\n",
      "2709/2709 [==============================] - 39s 15ms/step - loss: 0.0016\n",
      "Epoch 38/50\n",
      "2709/2709 [==============================] - 38s 14ms/step - loss: 0.0016\n",
      "Epoch 39/50\n",
      "2709/2709 [==============================] - 49s 18ms/step - loss: 0.0016\n",
      "Epoch 40/50\n",
      "2709/2709 [==============================] - 44s 16ms/step - loss: 0.0017\n",
      "Epoch 41/50\n",
      "2709/2709 [==============================] - 43s 16ms/step - loss: 0.0015\n",
      "Epoch 42/50\n",
      "2709/2709 [==============================] - 44s 16ms/step - loss: 0.0016\n",
      "Epoch 43/50\n",
      "2709/2709 [==============================] - 43s 16ms/step - loss: 0.0015\n",
      "Epoch 44/50\n",
      "2709/2709 [==============================] - 42s 16ms/step - loss: 0.0015\n",
      "Epoch 45/50\n",
      "2709/2709 [==============================] - 42s 15ms/step - loss: 0.0014\n",
      "Epoch 46/50\n",
      "2709/2709 [==============================] - 42s 15ms/step - loss: 0.0014\n",
      "Epoch 47/50\n",
      "2709/2709 [==============================] - 41s 15ms/step - loss: 0.0014\n",
      "Epoch 48/50\n",
      "2709/2709 [==============================] - 42s 16ms/step - loss: 0.0015\n",
      "Epoch 49/50\n",
      "2709/2709 [==============================] - 41s 15ms/step - loss: 0.0015\n",
      "Epoch 50/50\n",
      "2709/2709 [==============================] - 40s 15ms/step - loss: 0.0014\n"
     ]
    },
    {
     "data": {
      "text/plain": [
       "<keras.callbacks.History at 0x2a298317668>"
      ]
     },
     "execution_count": 14,
     "metadata": {},
     "output_type": "execute_result"
    }
   ],
   "source": [
    "# The LSTM architecture\n",
    "regressor = Sequential()\n",
    "# First LSTM layer with Dropout regularisation\n",
    "regressor.add(LSTM(units=50, return_sequences=True, input_shape=(X_train.shape[1],1)))\n",
    "regressor.add(Dropout(0.2))\n",
    "# Second LSTM layer\n",
    "regressor.add(LSTM(units=50, return_sequences=True))\n",
    "regressor.add(Dropout(0.2))\n",
    "# Third LSTM layer\n",
    "regressor.add(LSTM(units=50, return_sequences=True))\n",
    "regressor.add(Dropout(0.2))\n",
    "# Fourth LSTM layer\n",
    "regressor.add(LSTM(units=50))\n",
    "regressor.add(Dropout(0.2))\n",
    "# The output layer\n",
    "regressor.add(Dense(units=1))\n",
    "\n",
    "# Compiling the RNN\n",
    "regressor.compile(optimizer='rmsprop',loss='mean_squared_error')\n",
    "# Fitting to the training set\n",
    "regressor.fit(X_train,y_train,epochs=50,batch_size=32)"
   ]
  },
  {
   "cell_type": "code",
   "execution_count": 27,
   "metadata": {
    "_uuid": "326fa85615622feb484cc4c848edeec6f7133913"
   },
   "outputs": [],
   "source": [
    "# Now to get the test set ready in a similar way as the training set.\n",
    "# The following has been done so first 60 entires of test set have 60 previous values which is impossible to get unless we take the whole \n",
    "# 'High' attribute data for processing\n",
    "dataset_total = pd.concat((dataset[\"High\"][:'2016'],dataset[\"High\"]['2017':]),axis=0)\n",
    "inputs = dataset_total[len(dataset_total)-len(test_set) - 60:].values\n",
    "inputs = inputs.reshape(-1,1)\n",
    "inputs  = sc.transform(inputs)"
   ]
  },
  {
   "cell_type": "code",
   "execution_count": 28,
   "metadata": {
    "_uuid": "435b8024814939ac4fbd372baa0cd8cfc78f80bc"
   },
   "outputs": [],
   "source": [
    "# Preparing X_test and predicting the prices\n",
    "X_test = []\n",
    "for i in range(60,311):\n",
    "    X_test.append(inputs[i-60:i,0])\n",
    "X_test = np.array(X_test)\n",
    "X_test = np.reshape(X_test, (X_test.shape[0],X_test.shape[1],1))\n",
    "predicted_stock_price = regressor.predict(X_test)\n",
    "predicted_stock_price = sc.inverse_transform(predicted_stock_price)"
   ]
  },
  {
   "cell_type": "code",
   "execution_count": 29,
   "metadata": {
    "_uuid": "b774a8e79e53eac89694cafef6b11aa99226b95f",
    "scrolled": false
   },
   "outputs": [
    {
     "data": {
      "image/png": "[encoded data removed]",
      "text/plain": [
       "<Figure size 432x288 with 1 Axes>"
      ]
     },
     "metadata": {},
     "output_type": "display_data"
    }
   ],
   "source": [
    "# Visualizing the results for LSTM\n",
    "plot_predictions(test_set,predicted_stock_price)"
   ]
  },
  {
   "cell_type": "code",
   "execution_count": 25,
   "metadata": {
    "_uuid": "f6f6db0b6e1f17ac63c06ce49856873d98ba5f00"
   },
   "outputs": [
    {
     "name": "stdout",
     "output_type": "stream",
     "text": [
      "The root mean squared error is 2.0395056057947625.\n"
     ]
    }
   ],
   "source": [
    "# Evaluating our model\n",
    "return_rmse(test_set,predicted_stock_price)"
   ]
  },
  {
   "cell_type": "markdown",
   "metadata": {},
   "source": [
    "## Gated Recurrent Units RNN\n",
    "Faster but poor results"
   ]
  },
  {
   "cell_type": "code",
   "execution_count": 26,
   "metadata": {
    "_uuid": "e9b616c5112d707d16cc4b277007e286cffd58f6",
    "scrolled": true
   },
   "outputs": [
    {
     "name": "stdout",
     "output_type": "stream",
     "text": [
      "WARNING:tensorflow:Variable *= will be deprecated. Use `var.assign(var * other)` if you want assignment to the variable value or `x = x * y` if you want a new python Tensor object.\n",
      "Epoch 1/50\n",
      "2709/2709 [==============================] - 7s 2ms/step - loss: 0.0935\n",
      "Epoch 2/50\n",
      "2709/2709 [==============================] - 4s 2ms/step - loss: 0.0219\n",
      "Epoch 3/50\n",
      "2709/2709 [==============================] - 4s 2ms/step - loss: 0.0060\n",
      "Epoch 4/50\n",
      "2709/2709 [==============================] - 4s 2ms/step - loss: 0.0049\n",
      "Epoch 5/50\n",
      "2709/2709 [==============================] - 4s 2ms/step - loss: 0.0043\n",
      "Epoch 6/50\n",
      "2709/2709 [==============================] - 4s 2ms/step - loss: 0.0039\n",
      "Epoch 7/50\n",
      "2709/2709 [==============================] - 5s 2ms/step - loss: 0.0038\n",
      "Epoch 8/50\n",
      "2709/2709 [==============================] - 6s 2ms/step - loss: 0.0035\n",
      "Epoch 9/50\n",
      "2709/2709 [==============================] - 6s 2ms/step - loss: 0.0034\n",
      "Epoch 10/50\n",
      "2709/2709 [==============================] - 6s 2ms/step - loss: 0.0032\n",
      "Epoch 11/50\n",
      "2709/2709 [==============================] - 6s 2ms/step - loss: 0.0029\n",
      "Epoch 12/50\n",
      "2709/2709 [==============================] - 6s 2ms/step - loss: 0.0031\n",
      "Epoch 13/50\n",
      "2709/2709 [==============================] - 8s 3ms/step - loss: 0.0032\n",
      "Epoch 14/50\n",
      "2709/2709 [==============================] - 6s 2ms/step - loss: 0.0030\n",
      "Epoch 15/50\n",
      "2709/2709 [==============================] - 7s 3ms/step - loss: 0.0030\n",
      "Epoch 16/50\n",
      "2709/2709 [==============================] - 7s 3ms/step - loss: 0.0028\n",
      "Epoch 17/50\n",
      "2709/2709 [==============================] - 7s 3ms/step - loss: 0.0027\n",
      "Epoch 18/50\n",
      "2709/2709 [==============================] - 6s 2ms/step - loss: 0.0026\n",
      "Epoch 19/50\n",
      "2709/2709 [==============================] - 6s 2ms/step - loss: 0.0027\n",
      "Epoch 20/50\n",
      "2709/2709 [==============================] - 9s 3ms/step - loss: 0.0025\n",
      "Epoch 21/50\n",
      "2709/2709 [==============================] - 7s 2ms/step - loss: 0.0025\n",
      "Epoch 22/50\n",
      "2709/2709 [==============================] - 6s 2ms/step - loss: 0.0025\n",
      "Epoch 23/50\n",
      "2709/2709 [==============================] - 7s 2ms/step - loss: 0.0024\n",
      "Epoch 24/50\n",
      "2709/2709 [==============================] - 9s 3ms/step - loss: 0.0022\n",
      "Epoch 25/50\n",
      "2709/2709 [==============================] - 9s 3ms/step - loss: 0.0024\n",
      "Epoch 26/50\n",
      "2709/2709 [==============================] - 7s 3ms/step - loss: 0.0023\n",
      "Epoch 27/50\n",
      "2709/2709 [==============================] - 7s 3ms/step - loss: 0.0023\n",
      "Epoch 28/50\n",
      "2709/2709 [==============================] - 9s 3ms/step - loss: 0.0023\n",
      "Epoch 29/50\n",
      "2709/2709 [==============================] - 8s 3ms/step - loss: 0.0023\n",
      "Epoch 30/50\n",
      "2709/2709 [==============================] - 7s 3ms/step - loss: 0.0023\n",
      "Epoch 31/50\n",
      "2709/2709 [==============================] - 9s 3ms/step - loss: 0.0022\n",
      "Epoch 32/50\n",
      "2709/2709 [==============================] - 6s 2ms/step - loss: 0.0023\n",
      "Epoch 33/50\n",
      "2709/2709 [==============================] - 9s 3ms/step - loss: 0.0023\n",
      "Epoch 34/50\n",
      "2709/2709 [==============================] - 6s 2ms/step - loss: 0.0023\n",
      "Epoch 35/50\n",
      "2709/2709 [==============================] - 9s 3ms/step - loss: 0.0021\n",
      "Epoch 36/50\n",
      "2709/2709 [==============================] - 7s 3ms/step - loss: 0.0022\n",
      "Epoch 37/50\n",
      "2709/2709 [==============================] - 9s 3ms/step - loss: 0.0022\n",
      "Epoch 38/50\n",
      "2709/2709 [==============================] - 9s 3ms/step - loss: 0.0022\n",
      "Epoch 39/50\n",
      "2709/2709 [==============================] - 9s 3ms/step - loss: 0.0021\n",
      "Epoch 40/50\n",
      "2709/2709 [==============================] - 9s 3ms/step - loss: 0.0022\n",
      "Epoch 41/50\n",
      "2709/2709 [==============================] - 7s 3ms/step - loss: 0.0021\n",
      "Epoch 42/50\n",
      "2709/2709 [==============================] - 9s 3ms/step - loss: 0.0020\n",
      "Epoch 43/50\n",
      "2709/2709 [==============================] - 9s 3ms/step - loss: 0.0020\n",
      "Epoch 44/50\n",
      "2709/2709 [==============================] - 9s 3ms/step - loss: 0.0021\n",
      "Epoch 45/50\n",
      "2709/2709 [==============================] - 9s 3ms/step - loss: 0.0021\n",
      "Epoch 46/50\n",
      "2709/2709 [==============================] - 7s 3ms/step - loss: 0.0022\n",
      "Epoch 47/50\n",
      "2709/2709 [==============================] - 8s 3ms/step - loss: 0.0021\n",
      "Epoch 48/50\n",
      "2709/2709 [==============================] - 9s 3ms/step - loss: 0.0020\n",
      "Epoch 49/50\n",
      "2709/2709 [==============================] - 9s 3ms/step - loss: 0.0020\n",
      "Epoch 50/50\n",
      "2709/2709 [==============================] - 9s 3ms/step - loss: 0.0020\n"
     ]
    },
    {
     "data": {
      "text/plain": [
       "<keras.callbacks.History at 0x2a32177ad68>"
      ]
     },
     "execution_count": 26,
     "metadata": {},
     "output_type": "execute_result"
    }
   ],
   "source": [
    "# The GRU architecture\n",
    "regressorGRU = Sequential()\n",
    "# First GRU layer with Dropout regularisation\n",
    "regressorGRU.add(GRU(units=50, return_sequences=True, input_shape=(X_train.shape[1],1), activation='tanh'))\n",
    "regressorGRU.add(Dropout(0.2))\n",
    "# Second GRU layer\n",
    "regressorGRU.add(GRU(units=50, return_sequences=True, input_shape=(X_train.shape[1],1), activation='tanh'))\n",
    "regressorGRU.add(Dropout(0.2))\n",
    "# Third GRU layer\n",
    "regressorGRU.add(GRU(units=50, return_sequences=True, input_shape=(X_train.shape[1],1), activation='tanh'))\n",
    "regressorGRU.add(Dropout(0.2))\n",
    "# Fourth GRU layer\n",
    "regressorGRU.add(GRU(units=50, activation='tanh'))\n",
    "regressorGRU.add(Dropout(0.2))\n",
    "# The output layer\n",
    "regressorGRU.add(Dense(units=1))\n",
    "# Compiling the RNN\n",
    "regressorGRU.compile(optimizer=SGD(lr=0.01, decay=1e-7, momentum=0.9, nesterov=False),loss='mean_squared_error')\n",
    "# Fitting to the training set\n",
    "regressorGRU.fit(X_train,y_train,epochs=50,batch_size=150)"
   ]
  },
  {
   "cell_type": "markdown",
   "metadata": {
    "_kg_hide-input": false,
    "_uuid": "98628386f141545aa77d70f48478ac82bd9c1608"
   },
   "source": [
    "The current version version uses a dense GRU network with 100 units as opposed to the GRU network with 50 units in previous version"
   ]
  },
  {
   "cell_type": "code",
   "execution_count": 30,
   "metadata": {
    "_uuid": "f20ca021ea3ce05f6c6a98db93775f1b2c9c022c"
   },
   "outputs": [],
   "source": [
    "# Preparing X_test and predicting the prices\n",
    "X_test = []\n",
    "for i in range(60,311):\n",
    "    X_test.append(inputs[i-60:i,0])\n",
    "X_test = np.array(X_test)\n",
    "X_test = np.reshape(X_test, (X_test.shape[0],X_test.shape[1],1))\n",
    "GRU_predicted_stock_price = regressorGRU.predict(X_test)\n",
    "GRU_predicted_stock_price = sc.inverse_transform(GRU_predicted_stock_price)"
   ]
  },
  {
   "cell_type": "code",
   "execution_count": 31,
   "metadata": {
    "_uuid": "da8e9fa28510aa03e7dd06d5070d7b16e05ebb6e"
   },
   "outputs": [
    {
     "data": {
      "image/png": "[encoded data removed]",
      "text/plain": [
       "<Figure size 432x288 with 1 Axes>"
      ]
     },
     "metadata": {},
     "output_type": "display_data"
    }
   ],
   "source": [
    "# Visualizing the results for GRU\n",
    "plot_predictions(test_set,GRU_predicted_stock_price)"
   ]
  },
  {
   "cell_type": "code",
   "execution_count": 32,
   "metadata": {
    "_uuid": "23aec5ab1a717e3458c8d5cae68db0e7add091ae"
   },
   "outputs": [
    {
     "name": "stdout",
     "output_type": "stream",
     "text": [
      "The root mean squared error is 3.2755427474511003.\n"
     ]
    }
   ],
   "source": [
    "# Evaluating GRU\n",
    "return_rmse(test_set,GRU_predicted_stock_price)"
   ]
  },
  {
   "cell_type": "markdown",
   "metadata": {},
   "source": [
    "## Bidirectional LSTM \n",
    "Using a Bidirectional LSTM for better results"
   ]
  },
  {
   "cell_type": "code",
   "execution_count": 50,
   "metadata": {
    "scrolled": true
   },
   "outputs": [
    {
     "name": "stdout",
     "output_type": "stream",
     "text": [
      "Epoch 1/50\n",
      "2709/2709 [==============================] - 112s 41ms/step - loss: 0.0211\n",
      "Epoch 2/50\n",
      "2709/2709 [==============================] - 103s 38ms/step - loss: 0.0091\n",
      "Epoch 3/50\n",
      "2709/2709 [==============================] - 105s 39ms/step - loss: 0.0077\n",
      "Epoch 4/50\n",
      "2709/2709 [==============================] - 104s 38ms/step - loss: 0.0056\n",
      "Epoch 5/50\n",
      "2709/2709 [==============================] - 115s 42ms/step - loss: 0.0053\n",
      "Epoch 6/50\n",
      "2709/2709 [==============================] - 106s 39ms/step - loss: 0.0043\n",
      "Epoch 7/50\n",
      "2709/2709 [==============================] - 107s 39ms/step - loss: 0.0039\n",
      "Epoch 8/50\n",
      "2709/2709 [==============================] - 109s 40ms/step - loss: 0.0037\n",
      "Epoch 9/50\n",
      "2709/2709 [==============================] - 113s 42ms/step - loss: 0.0035\n",
      "Epoch 10/50\n",
      "2709/2709 [==============================] - 112s 41ms/step - loss: 0.0032\n",
      "Epoch 11/50\n",
      "2709/2709 [==============================] - 106s 39ms/step - loss: 0.0030\n",
      "Epoch 12/50\n",
      "2709/2709 [==============================] - 102s 37ms/step - loss: 0.0028\n",
      "Epoch 13/50\n",
      "2709/2709 [==============================] - 104s 39ms/step - loss: 0.0028\n",
      "Epoch 14/50\n",
      "2709/2709 [==============================] - 103s 38ms/step - loss: 0.0025\n",
      "Epoch 15/50\n",
      "2709/2709 [==============================] - 104s 38ms/step - loss: 0.0025\n",
      "Epoch 16/50\n",
      "2709/2709 [==============================] - 102s 38ms/step - loss: 0.0025\n",
      "Epoch 17/50\n",
      "2709/2709 [==============================] - 105s 39ms/step - loss: 0.0022\n",
      "Epoch 18/50\n",
      "2709/2709 [==============================] - 106s 39ms/step - loss: 0.0023\n",
      "Epoch 19/50\n",
      "2709/2709 [==============================] - 105s 39ms/step - loss: 0.0022\n",
      "Epoch 20/50\n",
      "2709/2709 [==============================] - 105s 39ms/step - loss: 0.0022\n",
      "Epoch 21/50\n",
      "2709/2709 [==============================] - 103s 38ms/step - loss: 0.0020\n",
      "Epoch 22/50\n",
      "2709/2709 [==============================] - 93s 35ms/step - loss: 0.0019\n",
      "Epoch 23/50\n",
      "2709/2709 [==============================] - 95s 35ms/step - loss: 0.0019\n",
      "Epoch 24/50\n",
      "2709/2709 [==============================] - 100s 37ms/step - loss: 0.0020\n",
      "Epoch 25/50\n",
      "2709/2709 [==============================] - 100s 37ms/step - loss: 0.0020\n",
      "Epoch 26/50\n",
      "2709/2709 [==============================] - 100s 37ms/step - loss: 0.0019\n",
      "Epoch 27/50\n",
      "2709/2709 [==============================] - 99s 37ms/step - loss: 0.0018\n",
      "Epoch 28/50\n",
      "2709/2709 [==============================] - 99s 37ms/step - loss: 0.0017\n",
      "Epoch 29/50\n",
      "2709/2709 [==============================] - 99s 37ms/step - loss: 0.0018\n",
      "Epoch 30/50\n",
      "2709/2709 [==============================] - 99s 37ms/step - loss: 0.0017\n",
      "Epoch 31/50\n",
      "2709/2709 [==============================] - 99s 37ms/step - loss: 0.0018\n",
      "Epoch 32/50\n",
      "2709/2709 [==============================] - 100s 37ms/step - loss: 0.0016\n",
      "Epoch 33/50\n",
      "2709/2709 [==============================] - 100s 37ms/step - loss: 0.0015\n",
      "Epoch 34/50\n",
      "2709/2709 [==============================] - 99s 37ms/step - loss: 0.0016\n",
      "Epoch 35/50\n",
      "2709/2709 [==============================] - 99s 37ms/step - loss: 0.0015\n",
      "Epoch 36/50\n",
      "2709/2709 [==============================] - 100s 37ms/step - loss: 0.0016\n",
      "Epoch 37/50\n",
      "2709/2709 [==============================] - 99s 37ms/step - loss: 0.0016\n",
      "Epoch 38/50\n",
      "2709/2709 [==============================] - 99s 37ms/step - loss: 0.0014\n",
      "Epoch 39/50\n",
      "2709/2709 [==============================] - 99s 37ms/step - loss: 0.0015\n",
      "Epoch 40/50\n",
      "2709/2709 [==============================] - 100s 37ms/step - loss: 0.0014\n",
      "Epoch 41/50\n",
      "2709/2709 [==============================] - 286s 105ms/step - loss: 0.0014\n",
      "Epoch 42/50\n",
      "2709/2709 [==============================] - 92s 34ms/step - loss: 0.0015\n",
      "Epoch 43/50\n",
      "2709/2709 [==============================] - 94s 35ms/step - loss: 0.0014\n",
      "Epoch 44/50\n",
      "2709/2709 [==============================] - 95s 35ms/step - loss: 0.0014\n",
      "Epoch 45/50\n",
      "2709/2709 [==============================] - 94s 35ms/step - loss: 0.0013\n",
      "Epoch 46/50\n",
      "2709/2709 [==============================] - 94s 35ms/step - loss: 0.0013\n",
      "Epoch 47/50\n",
      "2709/2709 [==============================] - 100s 37ms/step - loss: 0.0013\n",
      "Epoch 48/50\n",
      "2709/2709 [==============================] - 101s 37ms/step - loss: 0.0014\n",
      "Epoch 49/50\n",
      "2709/2709 [==============================] - 95s 35ms/step - loss: 0.0013\n",
      "Epoch 50/50\n",
      "2709/2709 [==============================] - 102s 38ms/step - loss: 0.0013\n"
     ]
    },
    {
     "data": {
      "text/plain": [
       "<keras.callbacks.History at 0x2a33abfc0b8>"
      ]
     },
     "execution_count": 50,
     "metadata": {},
     "output_type": "execute_result"
    }
   ],
   "source": [
    "# Biderctional Model\n",
    "regressorBidirection = Sequential()\n",
    "# First Bidirectional LSTM Layer\n",
    "regressorBidirection.add(Bidirectional(LSTM(units=50, return_sequences=True), input_shape=(X_train.shape[1],1)))\n",
    "regressorBidirection.add(Dropout(0.2))\n",
    "# Second Bidirectional LSTM layer\n",
    "regressorBidirection.add(Bidirectional(LSTM(units=50, return_sequences=True)))\n",
    "regressorBidirection.add(Dropout(0.2))\n",
    "# Third Bidirectional LSTM layer\n",
    "regressorBidirection.add(Bidirectional(LSTM(units=50, return_sequences=True)))\n",
    "regressorBidirection.add(Dropout(0.2))\n",
    "# Fourth Bidirectional LSTM layer\n",
    "regressorBidirection.add(Bidirectional(LSTM(units=50)))\n",
    "regressorBidirection.add(Dropout(0.2))\n",
    "# The output layer\n",
    "regressorBidirection.add(Dense(units=1))\n",
    "\n",
    "# Compiling the RNN\n",
    "regressorBidirection.compile(optimizer='rmsprop',loss='mean_squared_error')\n",
    "# Fitting to the training set\n",
    "regressorBidirection.fit(X_train,y_train,epochs=50,batch_size=32)"
   ]
  },
  {
   "cell_type": "code",
   "execution_count": 51,
   "metadata": {},
   "outputs": [],
   "source": [
    "# Preparing X_test and predicting the prices\n",
    "X_test = []\n",
    "for i in range(60,311):\n",
    "    X_test.append(inputs[i-60:i,0])\n",
    "X_test = np.array(X_test)\n",
    "X_test = np.reshape(X_test, (X_test.shape[0],X_test.shape[1],1))\n",
    "bidirection_predicted_stock_price = regressorBidirection.predict(X_test)\n",
    "bidirection_predicted_stock_price = sc.inverse_transform(bidirection_predicted_stock_price)"
   ]
  },
  {
   "cell_type": "code",
   "execution_count": 52,
   "metadata": {},
   "outputs": [
    {
     "data": {
      "image/png": "[encoded data removed]",
      "text/plain": [
       "<Figure size 432x288 with 1 Axes>"
      ]
     },
     "metadata": {},
     "output_type": "display_data"
    }
   ],
   "source": [
    "# Visualizing the results for GRU\n",
    "plot_predictions(test_set,bidirection_predicted_stock_price)"
   ]
  },
  {
   "cell_type": "code",
   "execution_count": 81,
   "metadata": {},
   "outputs": [
    {
     "name": "stdout",
     "output_type": "stream",
     "text": [
      "The root mean squared error is 1.9992020176634957.\n"
     ]
    }
   ],
   "source": [
    "# Evaluating GRU\n",
    "return_rmse(test_set,bidirection_predicted_stock_price)"
   ]
  },
  {
   "cell_type": "markdown",
   "metadata": {},
   "source": [
    "## OHLC Chart\n",
    "A plotly tool for plotting ohlc values"
   ]
  },
  {
   "cell_type": "code",
   "execution_count": 88,
   "metadata": {},
   "outputs": [],
   "source": [
    "plotly.tools.set_credentials_file(username='magiciankartik', api_key='HgbPgF1OwxRcj71GuPix')"
   ]
  },
  {
   "cell_type": "code",
   "execution_count": 92,
   "metadata": {},
   "outputs": [
    {
     "name": "stdout",
     "output_type": "stream",
     "text": [
      "High five! You successfully sent some data to your account on plotly. View your plot in your browser at https://plot.ly/~magiciankartik/0 or inside your plot.ly account where it is named 'simple_ohlc'\n"
     ]
    },
    {
     "data": {
      "text/html": [
       "<iframe id=\"igraph\" scrolling=\"no\" style=\"border:none;\" seamless=\"seamless\" src=\"https://plot.ly/~magiciankartik/0.embed\" height=\"525px\" width=\"100%\"></iframe>"
      ],
      "text/plain": [
       "<plotly.tools.PlotlyDisplay object>"
      ]
     },
     "execution_count": 92,
     "metadata": {},
     "output_type": "execute_result"
    }
   ],
   "source": [
    "trace = go.Ohlc(x=dataset.index,\n",
    "                open=dataset.Open,\n",
    "                high=dataset.High,\n",
    "                low=dataset.Low,\n",
    "                close=dataset.Close)\n",
    "data = [trace]\n",
    "py.iplot(data, filename='simple_ohlc')"
   ]
  }
 ],
 "metadata": {
  "kernelspec": {
   "display_name": "Python 3",
   "language": "python",
   "name": "python3"
  },
  "language_info": {
   "codemirror_mode": {
    "name": "ipython",
    "version": 3
   },
   "file_extension": ".py",
   "mimetype": "text/x-python",
   "name": "python",
   "nbconvert_exporter": "python",
   "pygments_lexer": "ipython3",
   "version": "3.6.5"
  }
 },
 "nbformat": 4,
 "nbformat_minor": 1
}
