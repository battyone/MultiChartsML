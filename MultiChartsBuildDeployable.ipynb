{
 "cells": [
  {
   "cell_type": "code",
   "execution_count": 2,
   "metadata": {},
   "outputs": [],
   "source": [
    "# Importing the tools and libraries\n",
    "import numpy as np\n",
    "import pandas as pd\n",
    "from sklearn.preprocessing import MinMaxScaler\n",
    "from keras.models import Sequential\n",
    "from keras.layers import Dense, LSTM, Dropout, GRU, Bidirectional\n",
    "from keras.optimizers import SGD\n",
    "from sklearn.metrics import mean_squared_error"
   ]
  },
  {
   "cell_type": "code",
   "execution_count": 3,
   "metadata": {},
   "outputs": [],
   "source": [
    "# helper functions\n",
    "\n",
    "def return_mse(test,predicted):\n",
    "    mse = mean_squared_error(test, predicted)\n",
    "    print(\"The root mean squared error is {}.\".format(mse))"
   ]
  },
  {
   "cell_type": "code",
   "execution_count": 3,
   "metadata": {},
   "outputs": [
    {
     "data": {
      "text/plain": [
       "'/device:GPU:0'"
      ]
     },
     "execution_count": 3,
     "metadata": {},
     "output_type": "execute_result"
    }
   ],
   "source": [
    "def train(X_train, Y_train, output_dir, learning_rate, momentum, epochs, scale, minbars, training_size,  testing_part, testing_weight, optimizer, target):\n",
    "    #preprocessing\n",
    "    \n",
    "    X_train, Y_train = preprocessData(X_train, Y_train, scale)\n",
    "    \n",
    "    #checking if a model already exists, \n",
    "    # if not, create one instead\n",
    "    \n",
    "    output_dir += '.h5'\n",
    "    try:\n",
    "        model = load_model(output_dir)\n",
    "    except ImportError:\n",
    "        model = getSequentialModel(learning_rate, momentum, optimizer)\n",
    "    \n",
    "    #fitting the model\n",
    "    \n",
    "    model.fit(X_train, Y_train, epochs=epochs, batch_size=32)\n",
    "    \n",
    "    #exporting the model\n",
    "    \n",
    "    model.save_weights(output_dir, )"
   ]
  },
  {
   "cell_type": "code",
   "execution_count": null,
   "metadata": {},
   "outputs": [],
   "source": [
    "def test(X_test, )"
   ]
  }
 ],
 "metadata": {
  "kernelspec": {
   "display_name": "Python 3",
   "language": "python",
   "name": "python3"
  },
  "language_info": {
   "codemirror_mode": {
    "name": "ipython",
    "version": 3
   },
   "file_extension": ".py",
   "mimetype": "text/x-python",
   "name": "python",
   "nbconvert_exporter": "python",
   "pygments_lexer": "ipython3",
   "version": "3.6.5"
  }
 },
 "nbformat": 4,
 "nbformat_minor": 2
}
